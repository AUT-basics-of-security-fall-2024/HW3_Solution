{
 "cells": [
  {
   "cell_type": "markdown",
   "metadata": {},
   "source": [
    "### Section 1: Installing Required Libraries  \n",
    "In this section, we will install the `cryptography` library, which provides tools for working with HMAC and key generation.  \n",
    "If you are running this notebook locally, make sure the installation completes successfully.\n"
   ]
  },
  {
   "cell_type": "code",
   "execution_count": 1,
   "metadata": {},
   "outputs": [
    {
     "name": "stdout",
     "output_type": "stream",
     "text": [
      "Collecting cryptography\n",
      "  Downloading cryptography-43.0.3-cp39-abi3-win_amd64.whl.metadata (5.4 kB)\n",
      "Collecting cffi>=1.12 (from cryptography)\n",
      "  Downloading cffi-1.17.1-cp39-cp39-win_amd64.whl.metadata (1.6 kB)\n",
      "Collecting pycparser (from cffi>=1.12->cryptography)\n",
      "  Using cached pycparser-2.22-py3-none-any.whl.metadata (943 bytes)\n",
      "Downloading cryptography-43.0.3-cp39-abi3-win_amd64.whl (3.1 MB)\n",
      "   ---------------------------------------- 0.0/3.1 MB ? eta -:--:--\n",
      "   ---------------------------------------- 0.0/3.1 MB ? eta -:--:--\n",
      "   ---------------------------------------- 0.0/3.1 MB ? eta -:--:--\n",
      "   ---------------------------------------- 0.0/3.1 MB ? eta -:--:--\n",
      "   ---------------------------------------- 0.0/3.1 MB ? eta -:--:--\n",
      "   --- ------------------------------------ 0.3/3.1 MB ? eta -:--:--\n",
      "   --- ------------------------------------ 0.3/3.1 MB ? eta -:--:--\n",
      "   --- ------------------------------------ 0.3/3.1 MB ? eta -:--:--\n",
      "   --- ------------------------------------ 0.3/3.1 MB ? eta -:--:--\n",
      "   ------ --------------------------------- 0.5/3.1 MB 294.5 kB/s eta 0:00:09\n",
      "   ------ --------------------------------- 0.5/3.1 MB 294.5 kB/s eta 0:00:09\n",
      "   ------ --------------------------------- 0.5/3.1 MB 294.5 kB/s eta 0:00:09\n",
      "   ------ --------------------------------- 0.5/3.1 MB 294.5 kB/s eta 0:00:09\n",
      "   ---------- ----------------------------- 0.8/3.1 MB 319.7 kB/s eta 0:00:08\n",
      "   ---------- ----------------------------- 0.8/3.1 MB 319.7 kB/s eta 0:00:08\n",
      "   ---------- ----------------------------- 0.8/3.1 MB 319.7 kB/s eta 0:00:08\n",
      "   ---------- ----------------------------- 0.8/3.1 MB 319.7 kB/s eta 0:00:08\n",
      "   ---------- ----------------------------- 0.8/3.1 MB 319.7 kB/s eta 0:00:08\n",
      "   ------------- -------------------------- 1.0/3.1 MB 296.1 kB/s eta 0:00:07\n",
      "   ------------- -------------------------- 1.0/3.1 MB 296.1 kB/s eta 0:00:07\n",
      "   ------------- -------------------------- 1.0/3.1 MB 296.1 kB/s eta 0:00:07\n",
      "   ------------- -------------------------- 1.0/3.1 MB 296.1 kB/s eta 0:00:07\n",
      "   ------------- -------------------------- 1.0/3.1 MB 296.1 kB/s eta 0:00:07\n",
      "   ----------------- ---------------------- 1.3/3.1 MB 280.8 kB/s eta 0:00:07\n",
      "   ----------------- ---------------------- 1.3/3.1 MB 280.8 kB/s eta 0:00:07\n",
      "   ----------------- ---------------------- 1.3/3.1 MB 280.8 kB/s eta 0:00:07\n",
      "   ----------------- ---------------------- 1.3/3.1 MB 280.8 kB/s eta 0:00:07\n",
      "   ----------------- ---------------------- 1.3/3.1 MB 280.8 kB/s eta 0:00:07\n",
      "   -------------------- ------------------- 1.6/3.1 MB 269.8 kB/s eta 0:00:06\n",
      "   -------------------- ------------------- 1.6/3.1 MB 269.8 kB/s eta 0:00:06\n",
      "   -------------------- ------------------- 1.6/3.1 MB 269.8 kB/s eta 0:00:06\n",
      "   -------------------- ------------------- 1.6/3.1 MB 269.8 kB/s eta 0:00:06\n",
      "   -------------------- ------------------- 1.6/3.1 MB 269.8 kB/s eta 0:00:06\n",
      "   ----------------------- ---------------- 1.8/3.1 MB 264.9 kB/s eta 0:00:05\n",
      "   ----------------------- ---------------- 1.8/3.1 MB 264.9 kB/s eta 0:00:05\n",
      "   ----------------------- ---------------- 1.8/3.1 MB 264.9 kB/s eta 0:00:05\n",
      "   ----------------------- ---------------- 1.8/3.1 MB 264.9 kB/s eta 0:00:05\n",
      "   ----------------------- ---------------- 1.8/3.1 MB 264.9 kB/s eta 0:00:05\n",
      "   --------------------------- ------------ 2.1/3.1 MB 263.9 kB/s eta 0:00:04\n",
      "   --------------------------- ------------ 2.1/3.1 MB 263.9 kB/s eta 0:00:04\n",
      "   --------------------------- ------------ 2.1/3.1 MB 263.9 kB/s eta 0:00:04\n",
      "   --------------------------- ------------ 2.1/3.1 MB 263.9 kB/s eta 0:00:04\n",
      "   --------------------------- ------------ 2.1/3.1 MB 263.9 kB/s eta 0:00:04\n",
      "   ------------------------------ --------- 2.4/3.1 MB 261.7 kB/s eta 0:00:03\n",
      "   ------------------------------ --------- 2.4/3.1 MB 261.7 kB/s eta 0:00:03\n",
      "   ------------------------------ --------- 2.4/3.1 MB 261.7 kB/s eta 0:00:03\n",
      "   ------------------------------ --------- 2.4/3.1 MB 261.7 kB/s eta 0:00:03\n",
      "   ------------------------------ --------- 2.4/3.1 MB 261.7 kB/s eta 0:00:03\n",
      "   ---------------------------------- ----- 2.6/3.1 MB 259.9 kB/s eta 0:00:02\n",
      "   ---------------------------------- ----- 2.6/3.1 MB 259.9 kB/s eta 0:00:02\n",
      "   ---------------------------------- ----- 2.6/3.1 MB 259.9 kB/s eta 0:00:02\n",
      "   ---------------------------------- ----- 2.6/3.1 MB 259.9 kB/s eta 0:00:02\n",
      "   ---------------------------------- ----- 2.6/3.1 MB 259.9 kB/s eta 0:00:02\n",
      "   ------------------------------------- -- 2.9/3.1 MB 256.5 kB/s eta 0:00:01\n",
      "   ------------------------------------- -- 2.9/3.1 MB 256.5 kB/s eta 0:00:01\n",
      "   ------------------------------------- -- 2.9/3.1 MB 256.5 kB/s eta 0:00:01\n",
      "   ------------------------------------- -- 2.9/3.1 MB 256.5 kB/s eta 0:00:01\n",
      "   ---------------------------------------- 3.1/3.1 MB 255.1 kB/s eta 0:00:00\n",
      "Downloading cffi-1.17.1-cp39-cp39-win_amd64.whl (181 kB)\n",
      "Using cached pycparser-2.22-py3-none-any.whl (117 kB)\n",
      "Installing collected packages: pycparser, cffi, cryptography\n",
      "Successfully installed cffi-1.17.1 cryptography-43.0.3 pycparser-2.22\n",
      "Note: you may need to restart the kernel to use updated packages.\n"
     ]
    }
   ],
   "source": [
    "# Install the necessary library\n",
    "%pip install cryptography"
   ]
  },
  {
   "cell_type": "markdown",
   "metadata": {},
   "source": [
    "### Section 2: Importing Required Modules  \n",
    "This section imports the necessary modules for cryptographic operations, such as `HMAC`, `SHA-256`, and secure random number generation."
   ]
  },
  {
   "cell_type": "code",
   "execution_count": 3,
   "metadata": {},
   "outputs": [],
   "source": [
    "# Import necessary modules\n",
    "from cryptography.hazmat.primitives.kdf.hkdf import HKDF\n",
    "from cryptography.hazmat.primitives.hashes import SHA256\n",
    "from cryptography.hazmat.primitives import hmac, hashes\n",
    "import secrets"
   ]
  },
  {
   "cell_type": "markdown",
   "metadata": {},
   "source": [
    "### Section 3: Diffie-Hellman Key Exchange Implementation  \n",
    "In this section, we implement the Diffie-Hellman key exchange protocol.  \n",
    "Two parties, Alice and Bob, generate private keys and compute public keys. Using these public keys, they derive a shared secret key that can be used for secure communication.  \n",
    "Both parties must end up with the same shared key."
   ]
  },
  {
   "cell_type": "code",
   "execution_count": 6,
   "metadata": {},
   "outputs": [],
   "source": [
    "def diffie_hellman_key_exchange():\n",
    "    # Set the initial parameters: a prime number and a generator\n",
    "    prime = 353  # Shared prime number\n",
    "    generator = 3  # Shared generator\n",
    "\n",
    "    # Generate private keys for Alice and Bob (randomly chosen)\n",
    "    private_key_alice = secrets.randbelow(prime)\n",
    "    private_key_bob = secrets.randbelow(prime)\n",
    "\n",
    "    # Compute public keys\n",
    "    public_key_alice = pow(generator, private_key_alice, prime)\n",
    "    public_key_bob = pow(generator, private_key_bob, prime)\n",
    "\n",
    "    # Generate the shared secret key\n",
    "    shared_key_alice = pow(public_key_bob, private_key_alice, prime)\n",
    "    shared_key_bob = pow(public_key_alice, private_key_bob, prime)\n",
    "\n",
    "    # Ensure both shared keys are the same\n",
    "    assert shared_key_alice == shared_key_bob\n",
    "\n",
    "    return shared_key_alice"
   ]
  },
  {
   "cell_type": "markdown",
   "metadata": {},
   "source": [
    "### Section 4: HMAC Calculation Function  \n",
    "Here, we define a function to calculate the HMAC (Hash-based Message Authentication Code) using the shared key generated by Diffie-Hellman.  \n",
    "The HMAC ensures both the **authenticity** and **integrity** of the message. We use SHA-256 as the hash function for HMAC."
   ]
  },
  {
   "cell_type": "code",
   "execution_count": 7,
   "metadata": {},
   "outputs": [],
   "source": [
    "def calculate_hmac(shared_key, message):\n",
    "    # Convert the shared key to bytes for HMAC\n",
    "    key = shared_key.to_bytes((shared_key.bit_length() + 7) // 8, byteorder='big')\n",
    "\n",
    "    # Initialize HMAC with the shared key and SHA-256 as the hash function\n",
    "    h = hmac.HMAC(key, hashes.SHA256())\n",
    "    h.update(message.encode())  # Add the message to the HMAC\n",
    "    return h.finalize()"
   ]
  },
  {
   "cell_type": "markdown",
   "metadata": {},
   "source": [
    "### Section 5: Running the Key Exchange and HMAC Calculation  \n",
    "In this section, we execute the Diffie-Hellman key exchange to generate a shared key.  \n",
    "Then, we use this shared key to compute the HMAC for a sample message.  \n",
    "Finally, we print both the shared key and the HMAC to verify the results."
   ]
  },
  {
   "cell_type": "code",
   "execution_count": 8,
   "metadata": {},
   "outputs": [
    {
     "name": "stdout",
     "output_type": "stream",
     "text": [
      "Shared Key: 220\n",
      "HMAC of the message: 07145e0d0c47d750dac899682faf50f083e0de86a817028b4ae9d44069321906\n"
     ]
    }
   ],
   "source": [
    "# Execute the key exchange to get the shared key\n",
    "shared_key = diffie_hellman_key_exchange()\n",
    "print(f\"Shared Key: {shared_key}\")\n",
    "\n",
    "# Calculate HMAC for a sample message\n",
    "message = \"This is a sample message\"\n",
    "hmac_value = calculate_hmac(shared_key, message)\n",
    "print(f\"HMAC of the message: {hmac_value.hex()}\")"
   ]
  },
  {
   "cell_type": "markdown",
   "metadata": {},
   "source": [
    "In this notebook, we implemented a complete cryptographic workflow using **Diffie-Hellman key exchange** and **HMAC for message authentication**.  \n",
    "This workflow demonstrates how two parties can securely exchange a shared key and use it to ensure the authenticity and integrity of their communication.\n",
    " \n",
    "**Author:** [Sarvin Nami](https://github.com/srvn-nm)  \n",
    "**Date:** October 2024 "
   ]
  }
 ],
 "metadata": {
  "kernelspec": {
   "display_name": "Python 3",
   "language": "python",
   "name": "python3"
  },
  "language_info": {
   "codemirror_mode": {
    "name": "ipython",
    "version": 3
   },
   "file_extension": ".py",
   "mimetype": "text/x-python",
   "name": "python",
   "nbconvert_exporter": "python",
   "pygments_lexer": "ipython3",
   "version": "3.9.13"
  }
 },
 "nbformat": 4,
 "nbformat_minor": 2
}
